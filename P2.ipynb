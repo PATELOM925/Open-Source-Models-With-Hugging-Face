{
  "nbformat": 4,
  "nbformat_minor": 0,
  "metadata": {
    "colab": {
      "provenance": [],
      "authorship_tag": "ABX9TyOqn40v0Xg5iwdIpATqcvMj",
      "include_colab_link": true
    },
    "kernelspec": {
      "name": "python3",
      "display_name": "Python 3"
    },
    "language_info": {
      "name": "python"
    }
  },
  "cells": [
    {
      "cell_type": "markdown",
      "metadata": {
        "id": "view-in-github",
        "colab_type": "text"
      },
      "source": [
        "<a href=\"https://colab.research.google.com/github/PATELOM925/Open-Source-Models-With-Hugging-Face/blob/main/P2.ipynb\" target=\"_parent\"><img src=\"https://colab.research.google.com/assets/colab-badge.svg\" alt=\"Open In Colab\"/></a>"
      ]
    },
    {
      "cell_type": "markdown",
      "source": [
        "Translation Task Model"
      ],
      "metadata": {
        "id": "0uwNc6ZJyeJZ"
      }
    },
    {
      "cell_type": "code",
      "execution_count": 6,
      "metadata": {
        "id": "xp0jnOrhxtyQ"
      },
      "outputs": [],
      "source": [
        "from transformers import pipeline\n",
        "import torch"
      ]
    },
    {
      "cell_type": "code",
      "source": [
        "translate = pipeline(\"translation\", model=\"facebook/nllb-200-distilled-1.3B\", torch_dtype = torch.bfloat16)\n"
      ],
      "metadata": {
        "id": "bT-gmyxtyA2W"
      },
      "execution_count": 7,
      "outputs": []
    },
    {
      "cell_type": "code",
      "source": [
        "#translating The text"
      ],
      "metadata": {
        "id": "QtjyYgFbyVGk"
      },
      "execution_count": null,
      "outputs": []
    },
    {
      "cell_type": "code",
      "source": [
        "text = '''\n",
        "Hello Everyone, My name is Om Miteshbhai Patel.\n",
        "I am studying data science.\n",
        "'''"
      ],
      "metadata": {
        "id": "7Q3c7QLMzIYf"
      },
      "execution_count": 13,
      "outputs": []
    },
    {
      "cell_type": "code",
      "source": [
        "translator = translate(text,src_lang= 'eng_=Latn',tgt_lang='guj_Gujr')"
      ],
      "metadata": {
        "id": "jo98lbHszPA1"
      },
      "execution_count": 14,
      "outputs": []
    },
    {
      "cell_type": "code",
      "source": [
        "print(translator)"
      ],
      "metadata": {
        "colab": {
          "base_uri": "https://localhost:8080/"
        },
        "id": "wAx1TIYm0BdZ",
        "outputId": "51140950-bfaf-4f34-f50a-8ab00578ed81"
      },
      "execution_count": 15,
      "outputs": [
        {
          "output_type": "stream",
          "name": "stdout",
          "text": [
            "[{'translation_text': ' હેલો બધા, મારું નામ ઓમ મિતેશભાઈ પટેલ છે. હું ડેટા સાયન્સનો અભ્યાસ કરી રહ્યો છું. '}]\n"
          ]
        }
      ]
    },
    {
      "cell_type": "markdown",
      "source": [
        "https://github.com/facebookresearch/flores/blob/main/flores200/README.md"
      ],
      "metadata": {
        "id": "7myBtqR_0OFD"
      }
    },
    {
      "cell_type": "code",
      "source": [
        "# to delete the model, we can call garbage collector."
      ],
      "metadata": {
        "id": "cR0DkSS00LRS"
      },
      "execution_count": 16,
      "outputs": []
    },
    {
      "cell_type": "code",
      "source": [
        "# import gc\n",
        "# del translate\n",
        "# gc.collect"
      ],
      "metadata": {
        "id": "FmFCZj590hsY"
      },
      "execution_count": null,
      "outputs": []
    }
  ]
}